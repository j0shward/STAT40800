{
 "cells": [
  {
   "cell_type": "markdown",
   "metadata": {},
   "source": [
    "# Week 11 - Assessed exercises"
   ]
  },
  {
   "cell_type": "markdown",
   "metadata": {},
   "source": [
    "In these assessed exercises we're going to perform some model comparison on a  handwriting recognition multi-class data set. We're going to divide it up into training, validation and test sets. We're going to run different parameter  values on the training and validation sets to determine the optimal parameters Then we're going to run the optimal values on the test set to compare models"
   ]
  },
  {
   "cell_type": "markdown",
   "metadata": {},
   "source": [
    "The models we're going to use are:\n",
    " - Random forests\n",
    " - k nearest neighbours\n",
    " - Multi-layer perceptron (a type of neural network)\n",
    "\n",
    "You can load in these classifiers with the following commands"
   ]
  },
  {
   "cell_type": "code",
   "execution_count": 1,
   "metadata": {},
   "outputs": [],
   "source": [
    "from sklearn.neighbors import KNeighborsClassifier\n",
    "from sklearn.ensemble import RandomForestClassifier\n",
    "from sklearn.neural_network import MLPClassifier"
   ]
  },
  {
   "cell_type": "code",
   "execution_count": 2,
   "metadata": {},
   "outputs": [],
   "source": [
    "# Some other packages we may need\n",
    "from sklearn import datasets\n",
    "import numpy as np\n",
    "import numpy.random as npr\n",
    "import pandas as pd"
   ]
  },
  {
   "cell_type": "code",
   "execution_count": 3,
   "metadata": {},
   "outputs": [],
   "source": [
    "# Load in the digits data with \n",
    "digits = datasets.load_digits()"
   ]
  },
  {
   "cell_type": "markdown",
   "metadata": {},
   "source": [
    "Remember that each sklearn data set comes with a target object (the response) and a data object (the explanatory variables). \n",
    "\n",
    "These data concern handwriting recognition so the response is a digit (0 to 9) and the explanatory variables\n",
    "are levels of grey on an 8 by 8 grid.\n",
    "You can get a plot of any row (a handwriting sample) with:"
   ]
  },
  {
   "cell_type": "code",
   "execution_count": 15,
   "metadata": {},
   "outputs": [
    {
     "data": {
      "text/plain": [
       "Text(0.5, 1.05, '4')"
      ]
     },
     "execution_count": 15,
     "metadata": {},
     "output_type": "execute_result"
    },
    {
     "data": {
      "text/plain": [
       "<Figure size 432x288 with 0 Axes>"
      ]
     },
     "metadata": {},
     "output_type": "display_data"
    },
    {
     "data": {
      "image/png": "[encoded data removed]",
      "text/plain": [
       "<Figure size 288x288 with 1 Axes>"
      ]
     },
     "metadata": {
      "needs_background": "light"
     },
     "output_type": "display_data"
    }
   ],
   "source": [
    "import matplotlib.pyplot as plt\n",
    "choose_row = 100\n",
    "plt.gray() \n",
    "plt.matshow(digits.images[choose_row]) \n",
    "plt.title(digits.target[choose_row])"
   ]
  },
  {
   "cell_type": "markdown",
   "metadata": {},
   "source": [
    "Where here I've made the title the digit it's supposed to represent (4). Looking at the plot you should see that it resembles a 4."
   ]
  },
  {
   "cell_type": "markdown",
   "metadata": {},
   "source": [
    "Try changing the value of choose_row to see different digits and how they've been drawn. Note that this data set has an extra object 'images' that contains the 8 by 8 matrices containing the pixel intensities, we will ignore this object. "
   ]
  },
  {
   "cell_type": "code",
   "execution_count": 5,
   "metadata": {},
   "outputs": [
    {
     "data": {
      "text/plain": [
       "<Figure size 432x288 with 0 Axes>"
      ]
     },
     "metadata": {},
     "output_type": "display_data"
    },
    {
     "data": {
      "image/png": "[encoded data removed]",
      "text/plain": [
       "<Figure size 288x288 with 1 Axes>"
      ]
     },
     "metadata": {
      "needs_background": "light"
     },
     "output_type": "display_data"
    }
   ],
   "source": [
    "choose_row = 50\n",
    "plt.gray() \n",
    "plt.matshow(digits.images[choose_row]) \n",
    "plt.title(digits.target[choose_row])\n",
    "plt.show()"
   ]
  },
  {
   "cell_type": "markdown",
   "metadata": {},
   "source": [
    "Below is a function for creating training, validation and test sets for a given\n",
    "matrix of observations X and vector of responses y. The function also needs a\n",
    "seed value so that it can reproduce the same outputs. The data is split 50%,\n",
    "25%, 25% between training, validation and test, respectively. We will use this\n",
    "function when creating our training, validation and test sets below."
   ]
  },
  {
   "cell_type": "code",
   "execution_count": 6,
   "metadata": {},
   "outputs": [],
   "source": [
    "def train_val_test_sets(X,y,s):\n",
    "    npr.seed(s)\n",
    "    inds= npr.permutation(range(len(y)))\n",
    "    n_train = int(len(y)/2)\n",
    "    n_val =  int(3*len(y)/4)\n",
    "    X_train = X[inds[:n_train],:]\n",
    "    y_train = y[inds[:n_train]]\n",
    "    X_val = X[inds[n_train:n_val],:]\n",
    "    y_val = y[inds[n_train:n_val]]\n",
    "    X_test = X[inds[n_val:],:]\n",
    "    y_test = y[inds[n_val:]]\n",
    "    return X_train, X_val, X_test, y_train, y_val, y_test"
   ]
  },
  {
   "cell_type": "markdown",
   "metadata": {},
   "source": [
    "### Q1 Write a function that runs each of the three classifiers with their default  parameter values. The function inputs are the training and test sets X_train, X_test, y_train, y_test and a seed value s. The seed value should be used as the random_state argument in RandomForestClassifier and MLPClassifier. The function should return a dict with keys 'knn', 'rf' and 'svm'. The values should be the misclassification rate for each classifier (rounded to 3dp). Remember that  there are more than two categories, so your mis-classification table will have more rows and columns to interpret."
   ]
  },
  {
   "cell_type": "code",
   "execution_count": 7,
   "metadata": {},
   "outputs": [],
   "source": [
    "def exercise1(X_train,X_test,y_train,y_test,s):\n",
    "\n",
    "    def misclassification_cross(y_test,test_pred):\n",
    "        cross = pd.crosstab(test_pred,y_test).to_numpy()\n",
    "        return (cross.sum() - (np.diagonal(cross)).sum())/(cross).sum()\n",
    "                    \n",
    "    rf = RandomForestClassifier(random_state=s)\n",
    "    rf_fit = rf.fit(X_train,y_train)\n",
    "    rf_test_pred = rf_fit.predict(X_test)    \n",
    "    rf_error_rate = misclassification_cross(y_test,rf_test_pred)\n",
    "    \n",
    "    kn = KNeighborsClassifier()\n",
    "    kn_fit = kn.fit(X_train,y_train)\n",
    "    kn_test_pred = kn_fit.predict(X_test)\n",
    "    kn_error_rate = misclassification_cross(y_test,kn_test_pred)\n",
    "    \n",
    "    mlp = MLPClassifier(random_state=s)\n",
    "    mlp_fit = mlp.fit(X_train,y_train)\n",
    "    mlp_test_pred = mlp_fit.predict(X_test)\n",
    "    mlp_error_rate = misclassification_cross(y_test,mlp_test_pred)\n",
    "\n",
    "    \n",
    "    return {'knn':round(kn_error_rate,3),'mlp':round(mlp_error_rate,3),'rf':round(rf_error_rate,3)}"
   ]
  },
  {
   "cell_type": "code",
   "execution_count": 8,
   "metadata": {},
   "outputs": [
    {
     "name": "stdout",
     "output_type": "stream",
     "text": [
      "{'knn': 0.024, 'mlp': 0.031, 'rf': 0.076}\n"
     ]
    }
   ],
   "source": [
    "# Suggested test\n",
    "X1 = digits.data\n",
    "y1 = digits.target\n",
    "# We can use underscores to ignore the outputs of train_val_test_sets that we don't need\n",
    "[X_train1, _, X_test1, y_train1, _, y_test1] = train_val_test_sets(X1,y1,99)\n",
    "print(exercise1(X_train1,X_test1,y_train1,y_test1,123))\n",
    "# This should return \n",
    "# {'knn': 0.024, 'mlp': 0.031, 'rf': 0.076}\n",
    "# You can ignore the warning messages for now\n",
    "# Again, this should return the same answer every time you run it with the inputs\n",
    "# X2, y2 and 99. If you use a subset of X2 and y2, or change the seed value you \n",
    "# should expect these values to change."
   ]
  },
  {
   "cell_type": "markdown",
   "metadata": {},
   "source": [
    "Each of the above models has key parameters which we might like to estimate. For \n",
    "example, we might want to estimate the 'best' number of neighbours to use in kNN\n",
    "To do this, we fit kNN with different values of k to the training set and evaluate\n",
    "the performance of each model using the validation set. The k value that gives the\n",
    "best performance on the validation data is chosen as the best model. We then \n",
    "evaluate the performance of this model on data the classifier hasn't seen before,\n",
    "the test set."
   ]
  },
  {
   "cell_type": "markdown",
   "metadata": {},
   "source": [
    "### Q2 Write a function that determines the 'best' number of neighbours k to use in  the kNN classifier and evaluates the performance of the best model on the test set. The function inputs are the training, validation and test sets and a list of  values of k to try. The function should return a dict with the best k value (key:  'k') and the misclassification rate for the test set (key: 'MR') (rounded to 3dp). Ensure that you use these exact keys."
   ]
  },
  {
   "cell_type": "code",
   "execution_count": 9,
   "metadata": {},
   "outputs": [],
   "source": [
    "def exercise2(X_train,X_val,X_test,y_train,y_val,y_test,kvals):\n",
    "    \n",
    "    def misclassification_cross(y_test,test_pred):\n",
    "        cross = pd.crosstab(test_pred,y_test).to_numpy()\n",
    "        return (cross.sum() - (np.diagonal(cross)).sum())/(cross).sum()\n",
    "    \n",
    "    misclassification_rate = []\n",
    "    for i in kvals:\n",
    "            kn = KNeighborsClassifier(i)\n",
    "            kn_fit = kn.fit(X_train,y_train)\n",
    "            kn_test_pred = kn_fit.predict(X_val)\n",
    "            kn_error_rate = misclassification_cross(y_val,kn_test_pred)\n",
    "            misclassification_rate.append(kn_error_rate)\n",
    "            \n",
    "    kn = KNeighborsClassifier(kvals[np.argmin(misclassification_rate)])\n",
    "    kn_fit = kn.fit(X_train,y_train)\n",
    "    kn_test_pred = kn_fit.predict(X_test)\n",
    "    kn_error_rate = misclassification_cross(y_test,kn_test_pred)\n",
    "            \n",
    "    return {'k':kvals[np.argmin(misclassification_rate)],'MR':round(kn_error_rate,3)}"
   ]
  },
  {
   "cell_type": "code",
   "execution_count": 10,
   "metadata": {},
   "outputs": [
    {
     "name": "stdout",
     "output_type": "stream",
     "text": [
      "{'k': 2, 'MR': 0.031}\n"
     ]
    }
   ],
   "source": [
    "# Suggestes test\n",
    "print(exercise2(*train_val_test_sets(X1,y1,199),range(1,22)))\n",
    "# This should return {'k': 2, 'MR': 0.031}\n",
    "# If you change the seed value for creating your training, validation and test sets\n",
    "# you can expect to get different values for k and the missclassification rate."
   ]
  },
  {
   "cell_type": "markdown",
   "metadata": {},
   "source": [
    "### Q3 Write a function that determines the 'best' number of trees (n_estimators) to use in the random forest classifier and evaluates the performance of the best model on the test set. The function inputs are the training, validation and test sets, a list of values of n_estimators to try and a seed value s to use as the random_stat for the classifier. The function should return a dict with the best number of trees (key: 'Trees') and the misclassification rate for the test set (key: 'MR') (rounded to 3dp) Ensure that you use these exact keys."
   ]
  },
  {
   "cell_type": "code",
   "execution_count": 11,
   "metadata": {},
   "outputs": [],
   "source": [
    "def exercise3(X_train,X_val,X_test,y_train,y_val,y_test,tree_vals,s):\n",
    "    \n",
    "    def misclassification_cross(y_test,test_pred):\n",
    "        cross = pd.crosstab(test_pred,y_test).to_numpy()\n",
    "        return (cross.sum() - (np.diagonal(cross)).sum())/(cross).sum()\n",
    "    \n",
    "    misclassification_rate = []\n",
    "    for i in tree_vals:\n",
    "            rf = RandomForestClassifier(n_estimators=i,random_state=s)\n",
    "            rf_fit = rf.fit(X_train,y_train)\n",
    "            rf_test_pred = rf_fit.predict(X_val)\n",
    "            rf_error_rate = misclassification_cross(y_val,rf_test_pred)\n",
    "            misclassification_rate.append(rf_error_rate)\n",
    "            \n",
    "    rf = RandomForestClassifier(n_estimators=tree_vals[np.argmin(misclassification_rate)],random_state=s)\n",
    "    rf_fit = rf.fit(X_train,y_train)\n",
    "    rf_test_pred = rf_fit.predict(X_test)\n",
    "    rf_error_rate = misclassification_cross(y_test,rf_test_pred)\n",
    "        \n",
    "    return {'Trees':tree_vals[np.argmin(misclassification_rate)],'MR':round(rf_error_rate,3)}"
   ]
  },
  {
   "cell_type": "code",
   "execution_count": 12,
   "metadata": {},
   "outputs": [
    {
     "name": "stdout",
     "output_type": "stream",
     "text": [
      "{'Trees': 55, 'MR': 0.038}\n"
     ]
    }
   ],
   "source": [
    "# Suggestes test\n",
    "print(exercise3(*train_val_test_sets(X1,y1,99),range(5,101,5),23))\n",
    "# This should return {'Trees': 55, 'MR': 0.038}\n",
    "# Again, changing the seed value for creating your training, validation and test sets\n",
    "# will change the number of trees and the missclassification rate. As will changing\n",
    "# the seed value for the random state of the classifier"
   ]
  },
  {
   "cell_type": "markdown",
   "metadata": {},
   "source": [
    "### Q4 The parameter we wish to estimate for the multi-layer perceptron classifier is the number of neurons in the hidden layers of the neural network. To change this parameter include hidden_layer_sizes=num_neurons as an input to the MLPClassifier function. Write a function that determines the 'best' number of neurons in the  multi-layer perceptron classifier and evaluates the performance of the best model  on the test set. The function inputs are the training, validation and test sets,  a list of values of hidden_layer_sizes to try and a seed value s to use as the  random_state for the classifier. The function should return a dict with the best number of neurons (key: 'Neurons') and the  misclassification rate for the test  set (key: 'MR') (rounded to 3dp). Ensure that you use these exact keys."
   ]
  },
  {
   "cell_type": "code",
   "execution_count": 13,
   "metadata": {},
   "outputs": [],
   "source": [
    "def exercise4(X_train,X_val,X_test,y_train,y_val,y_test,layer_vals,s):\n",
    "    \n",
    "    def misclassification_cross(y_test,test_pred):\n",
    "        cross = pd.crosstab(test_pred,y_test).to_numpy()\n",
    "        return (cross.sum() - (np.diagonal(cross)).sum())/(cross).sum()\n",
    "    \n",
    "    misclassification_rate = []\n",
    "    for i in layer_vals:\n",
    "            mlp = MLPClassifier(hidden_layer_sizes=i,random_state=s)\n",
    "            mlp_fit = mlp.fit(X_train,y_train)\n",
    "            mlp_test_pred = mlp_fit.predict(X_val)\n",
    "            mlp_error_rate = misclassification_cross(y_val,mlp_test_pred)\n",
    "            misclassification_rate.append(mlp_error_rate)\n",
    "            \n",
    "    mlp = MLPClassifier(hidden_layer_sizes=layer_vals[np.argmin(misclassification_rate)],random_state=s)\n",
    "    mlp_fit = mlp.fit(X_train,y_train)\n",
    "    mlp_test_pred = mlp_fit.predict(X_test)\n",
    "    mlp_error_rate = misclassification_cross(y_test,mlp_test_pred)\n",
    "            \n",
    "    return {'Neurons':layer_vals[np.argmin(misclassification_rate)],'MR':round(mlp_error_rate,3)}"
   ]
  },
  {
   "cell_type": "code",
   "execution_count": 14,
   "metadata": {},
   "outputs": [
    {
     "name": "stdout",
     "output_type": "stream",
     "text": [
      "{'Neurons': 550, 'MR': 0.033}\n"
     ]
    }
   ],
   "source": [
    "# Suggested test\n",
    "print(exercise4(*train_val_test_sets(X1,y1,175),range(50,1551,100),45))\n",
    "# This should return {'Neurons': 550, 'MR': 0.033}\n",
    "# As before, changing either seed value will change the number of neurons and the \n",
    "# missclassification rate.\n",
    "# Note that this function will take ~20s to run"
   ]
  }
 ],
 "metadata": {
  "kernelspec": {
   "display_name": "Python 3",
   "language": "python",
   "name": "python3"
  },
  "language_info": {
   "codemirror_mode": {
    "name": "ipython",
    "version": 3
   },
   "file_extension": ".py",
   "mimetype": "text/x-python",
   "name": "python",
   "nbconvert_exporter": "python",
   "pygments_lexer": "ipython3",
   "version": "3.7.4"
  }
 },
 "nbformat": 4,
 "nbformat_minor": 2
}
