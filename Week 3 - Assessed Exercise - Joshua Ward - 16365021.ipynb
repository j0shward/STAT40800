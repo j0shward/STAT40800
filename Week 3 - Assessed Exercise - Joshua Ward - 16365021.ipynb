{
 "cells": [
  {
   "cell_type": "code",
   "execution_count": 30,
   "metadata": {
    "collapsed": true
   },
   "outputs": [],
   "source": [
    "import numpy as np\n",
    "import pandas as pd\n",
    "import random"
   ]
  },
  {
   "cell_type": "markdown",
   "metadata": {},
   "source": [
    "### Q1.  Write a function that takes n, a and b as inputs. The function should create a 1D array containing the numbers 0, 1, . . . , n−1 (n elements), multiple every element by a, add b to the 1st element and return the result"
   ]
  },
  {
   "cell_type": "code",
   "execution_count": 98,
   "metadata": {
    "collapsed": true
   },
   "outputs": [],
   "source": [
    "def exercise1(n,a,b):\n",
    "    my_data = range(n)\n",
    "    my_array = np.array(my_data)\n",
    "    my_array = my_array*a\n",
    "    my_array[0] = my_array[0] + b\n",
    "    return my_array"
   ]
  },
  {
   "cell_type": "code",
   "execution_count": 99,
   "metadata": {},
   "outputs": [
    {
     "data": {
      "text/plain": [
       "array([100,   2,   4,   6,   8,  10,  12,  14,  16,  18,  20])"
      ]
     },
     "execution_count": 99,
     "metadata": {},
     "output_type": "execute_result"
    }
   ],
   "source": [
    "exercise1(11,2,100)"
   ]
  },
  {
   "cell_type": "markdown",
   "metadata": {},
   "source": [
    "### 2. Write a function that takes n, m, a, b and val as inputs. The function should create a n × m matrix (2D array) of zeros, set the entry [a, b] equal to val and return this matrix as its output"
   ]
  },
  {
   "cell_type": "code",
   "execution_count": 119,
   "metadata": {
    "collapsed": true
   },
   "outputs": [],
   "source": [
    "def exercise2(n,m,a,b,val):\n",
    "    my_matrix = np.zeros((n,m))\n",
    "    my_matrix[a,b] = val\n",
    "    return my_matrix"
   ]
  },
  {
   "cell_type": "code",
   "execution_count": 120,
   "metadata": {},
   "outputs": [
    {
     "data": {
      "text/plain": [
       "array([[ 0.,  0.,  0.],\n",
       "       [ 0.,  0.,  0.],\n",
       "       [ 0.,  0.,  7.]])"
      ]
     },
     "execution_count": 120,
     "metadata": {},
     "output_type": "execute_result"
    }
   ],
   "source": [
    "exercise2(3,3,2,2,7)"
   ]
  },
  {
   "cell_type": "markdown",
   "metadata": {},
   "source": [
    "### 3. Write a function that takes an array X, and the numbers a and b as inputs, and returns all of the values in X that at greater than a and less than b.\n",
    "\n",
    "#### Firstly define a function rand_vector that returns a 2-D vector of dimension n*m filled with random integers between 0 and q to use for Q3\n"
   ]
  },
  {
   "cell_type": "code",
   "execution_count": 146,
   "metadata": {
    "collapsed": true
   },
   "outputs": [],
   "source": [
    "def rand_vector(q,n,m): \n",
    "    X = np.zeros((n,m))\n",
    "    for j in range(0,m):\n",
    "        for i in range (0,n):\n",
    "            X[i,j] = random.randint(0,q)\n",
    "    return X"
   ]
  },
  {
   "cell_type": "code",
   "execution_count": 161,
   "metadata": {},
   "outputs": [
    {
     "data": {
      "text/plain": [
       "array([[ 44.,   7.,  94.,   4.,  70.],\n",
       "       [ 23.,  71.,  42.,   8.,  44.],\n",
       "       [ 57.,  83.,   2.,  86.,  12.],\n",
       "       [ 57.,   0.,  30.,  73.,  39.],\n",
       "       [ 14.,   1.,  98.,   5.,  20.]])"
      ]
     },
     "execution_count": 161,
     "metadata": {},
     "output_type": "execute_result"
    }
   ],
   "source": [
    "X = rand_vector(100,5,5)\n",
    "X"
   ]
  },
  {
   "cell_type": "markdown",
   "metadata": {},
   "source": [
    "#### Now we definte the actual function and make use of the array X, we have generated"
   ]
  },
  {
   "cell_type": "code",
   "execution_count": 175,
   "metadata": {
    "collapsed": true
   },
   "outputs": [],
   "source": [
    "def exercise3(X,a,b):\n",
    "    if a < b:\n",
    "        return X[(X>a) & (X<b)]\n",
    "    else:\n",
    "        print(\"Please input an a less than b\")"
   ]
  },
  {
   "cell_type": "code",
   "execution_count": 176,
   "metadata": {},
   "outputs": [
    {
     "data": {
      "text/plain": [
       "array([ 23.,  12.,  14.,  20.])"
      ]
     },
     "execution_count": 176,
     "metadata": {},
     "output_type": "execute_result"
    }
   ],
   "source": [
    "exercise3(X,10,30)"
   ]
  },
  {
   "cell_type": "markdown",
   "metadata": {},
   "source": [
    "#### I made an alternative function which iterates through rows and columns for arrays of dimension ≤ 2"
   ]
  },
  {
   "cell_type": "code",
   "execution_count": 172,
   "metadata": {
    "collapsed": true
   },
   "outputs": [],
   "source": [
    "def alternative3(X,a,b):\n",
    "    if a < b:\n",
    "        if len(np.shape(X)) < 3:          \n",
    "            for i in range(0,len(X)):\n",
    "                for j in range(0,len(X[0])):\n",
    "                    if a < X[i,j] < b:\n",
    "                        print(X[i,j])\n",
    "        else:\n",
    "            print(\"Use first function, array has too many dimensions\")\n",
    "    else:\n",
    "        print(\"Please input an a less than b\")"
   ]
  },
  {
   "cell_type": "code",
   "execution_count": 173,
   "metadata": {},
   "outputs": [
    {
     "name": "stdout",
     "output_type": "stream",
     "text": [
      "23.0\n",
      "12.0\n",
      "14.0\n",
      "20.0\n"
     ]
    }
   ],
   "source": [
    "alternative3(X,10,30)"
   ]
  },
  {
   "cell_type": "markdown",
   "metadata": {},
   "source": [
    "### 4. Write a function that takes x as an input, converts x from degrees to radians and calculates sin of the x\n",
    "#### This is a very useful function because the sine function in the numpy library requires the angle to be in radian format"
   ]
  },
  {
   "cell_type": "code",
   "execution_count": 110,
   "metadata": {
    "collapsed": true
   },
   "outputs": [],
   "source": [
    "def exercise4(x):\n",
    "    q = np.radians(x)\n",
    "    y = np.sin(q)\n",
    "    print(x,\"degrees in rads is\",q,\"and the sine of the angle is\",y)"
   ]
  },
  {
   "cell_type": "code",
   "execution_count": 111,
   "metadata": {},
   "outputs": [
    {
     "name": "stdout",
     "output_type": "stream",
     "text": [
      "180 degrees in rads is 3.14159265359 and the sine of the angle is 1.22464679915e-16\n"
     ]
    }
   ],
   "source": [
    "exercise4(180)"
   ]
  }
 ],
 "metadata": {
  "kernelspec": {
   "display_name": "Python 3",
   "language": "python",
   "name": "python3"
  },
  "language_info": {
   "codemirror_mode": {
    "name": "ipython",
    "version": 3
   },
   "file_extension": ".py",
   "mimetype": "text/x-python",
   "name": "python",
   "nbconvert_exporter": "python",
   "pygments_lexer": "ipython3",
   "version": "3.6.3"
  }
 },
 "nbformat": 4,
 "nbformat_minor": 2
}
