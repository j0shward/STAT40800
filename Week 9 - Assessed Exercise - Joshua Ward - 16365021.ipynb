{
 "cells": [
  {
   "cell_type": "code",
   "execution_count": 13,
   "metadata": {},
   "outputs": [],
   "source": [
    "# DPP Assessed exercises 9\n",
    "import numpy as np\n",
    "import re\n",
    "import numpy.random as npr"
   ]
  },
  {
   "cell_type": "markdown",
   "metadata": {},
   "source": [
    "### Q1 Suppose I want to generate a password of length n using a random combination of all of the letters (a-z). Write a function that takes n and a seed value s as inputs and returns a string containing the password. Now all you have to remember for your password is the seed value you used to create it."
   ]
  },
  {
   "cell_type": "code",
   "execution_count": 55,
   "metadata": {},
   "outputs": [],
   "source": [
    "def exercise1(n,s):\n",
    "    npr.seed(s)\n",
    "    x = {1:'a',2:'b',3:'c',4:'d',5:'e',6:'f',7:'g',8:'h',9:'i',10:'j',11:'k',12:'l',13:'m',14:'n',15:'o',\n",
    "        16:'p',17:'q',18:'r',19:'s',20:'t',21:'u',22:'v',23:'w',24:'x',25:'y',26:'z'}\n",
    "    p = []\n",
    "    for i in range (n):\n",
    "        p.append(x[npr.randint(1,26)])\n",
    "    p = ''.join(p)\n",
    "    return p"
   ]
  },
  {
   "cell_type": "code",
   "execution_count": 56,
   "metadata": {},
   "outputs": [
    {
     "data": {
      "text/plain": [
       "'lgrcddmqwruf'"
      ]
     },
     "execution_count": 56,
     "metadata": {},
     "output_type": "execute_result"
    }
   ],
   "source": [
    "# Suggested tests\n",
    "exercise1(12,12)\n",
    "# Should return 'lgrcddmqwruf'"
   ]
  },
  {
   "cell_type": "code",
   "execution_count": 57,
   "metadata": {},
   "outputs": [
    {
     "data": {
      "text/plain": [
       "'afbibtqnviiqfcllvxeg'"
      ]
     },
     "execution_count": 57,
     "metadata": {},
     "output_type": "execute_result"
    }
   ],
   "source": [
    "exercise1(20,999)\n",
    "# Should return 'afbibztqnviiqfcllvxeg'"
   ]
  },
  {
   "cell_type": "markdown",
   "metadata": {},
   "source": [
    "### Q2 Suppose I have a list of phone number and I wish to extract the area codes of each number. Write a function that takes a list of phone numbers as input and extracts the area code (assuming that the area code is enclosed in parentheses, e.g. the area code for (08) 03 49 98, would be 08)."
   ]
  },
  {
   "cell_type": "code",
   "execution_count": 83,
   "metadata": {},
   "outputs": [],
   "source": [
    "def exercise2(phones):\n",
    "    return re.findall('\\(.*?\\)',phones)\n",
    "\n",
    "# Suggested tests"
   ]
  },
  {
   "cell_type": "code",
   "execution_count": 84,
   "metadata": {},
   "outputs": [
    {
     "data": {
      "text/plain": [
       "['(01)', '(04)', '(08)']"
      ]
     },
     "execution_count": 84,
     "metadata": {},
     "output_type": "execute_result"
    }
   ],
   "source": [
    "ph_num1 = '(01) 12 05 25, (04) 25 23 11, (08) 03 49 98'\n",
    "exercise2(ph_num1)\n",
    "\n",
    "# Should return ['(01)', '(04)', '(08)']"
   ]
  },
  {
   "cell_type": "code",
   "execution_count": 85,
   "metadata": {},
   "outputs": [
    {
     "data": {
      "text/plain": [
       "['(05)', '(01)', '(07)', '(08)']"
      ]
     },
     "execution_count": 85,
     "metadata": {},
     "output_type": "execute_result"
    }
   ],
   "source": [
    "ph_num2 = '(05) 73 43 12, (01) 11 34 67, (07) 91 62 46, (08) 04 23 81'\n",
    "exercise2(ph_num2)\n",
    "\n",
    "# Should return ['(05)', '(01)', '(07)', '(08)']"
   ]
  },
  {
   "cell_type": "markdown",
   "metadata": {},
   "source": [
    "### Q3 I have a list of strings consisting of email addresses and I want to find the domains  (the part after the @). Write a function that extracts the characters after the @ sign for each email address and returns them as a list."
   ]
  },
  {
   "cell_type": "code",
   "execution_count": 76,
   "metadata": {},
   "outputs": [],
   "source": [
    "def exercise3(emails):\n",
    "    x = []\n",
    "    for i in range(len(emails)):\n",
    "        x.append(re.search('@.*', emails[i]).group())\n",
    "    return x    "
   ]
  },
  {
   "cell_type": "code",
   "execution_count": 79,
   "metadata": {},
   "outputs": [
    {
     "data": {
      "text/plain": [
       "['@ucd.ie', '@gmail.com']"
      ]
     },
     "execution_count": 79,
     "metadata": {},
     "output_type": "execute_result"
    }
   ],
   "source": [
    "# Suggested tests\n",
    "exercise3(('myemail@ucd.ie','youremail@gmail.com'))\n",
    "\n",
    "# Should return ['ucd.ie', 'gmail.com']"
   ]
  },
  {
   "cell_type": "code",
   "execution_count": 78,
   "metadata": {},
   "outputs": [
    {
     "data": {
      "text/plain": [
       "['@ucd.ie', '@gmail.com', '@hotmail.com']"
      ]
     },
     "execution_count": 78,
     "metadata": {},
     "output_type": "execute_result"
    }
   ],
   "source": [
    "exercise3(('test1@ucd.ie','test2@gmail.com','test2@hotmail.com'))\n",
    "\n",
    "# Should return ['ucd.ie', 'gmail.com','hotmail.com']"
   ]
  },
  {
   "cell_type": "markdown",
   "metadata": {},
   "source": [
    "### Q4 I have a list of strings, each of which contains an email address. Write a function that finds and returns all of the email addresses in a given list of strings. You may assume that all email addresses consist of a set of characters (from a-z) and digits (from 0-9),  followed by an @ symbol, followed by another set of characters, followed by a full stop  and finally a third set of characters (none of the email addresses will have special characters, such as ? and !)."
   ]
  },
  {
   "cell_type": "code",
   "execution_count": null,
   "metadata": {},
   "outputs": [],
   "source": [
    "def exercise4(liststrings):\n",
    "    x = []\n",
    "    for i in range(len(liststrings)):\n",
    "        x.append(re.findall(r'[\\w\\.-]+@[\\w\\.-]+', liststrings[i]))\n",
    "    return x"
   ]
  },
  {
   "cell_type": "code",
   "execution_count": 82,
   "metadata": {},
   "outputs": [
    {
     "data": {
      "text/plain": [
       "[['test@capahq.org'], ['admin@handwheel.com'], ['manuelmedina@aol.com']]"
      ]
     },
     "execution_count": 82,
     "metadata": {},
     "output_type": "execute_result"
    }
   ],
   "source": [
    "# Suggested tests\n",
    "junk_mails = ['John Koftaram <test@capahq.org> would like to connect on LinkedIn. How would you like to respond?',' Re: Your Abandoned Package For Delivery I have very vital information to give to you, but first I must have your trust before I review it to you because it may cause me my job, so I need somebody that I can trust for me to be able to review thesecret to you. Contact me at BENSON OMALU <admin@handwheel.com>','FROM DESKTOP OF MR.Manuel Medina-MoraCHIEF EXECUTIVE OFFICER E-MAIL: manuelmedina@aol.com ATTENTION BENEFICIARY']\n",
    "exercise4(junk_mails)\n",
    "\n",
    "# Should return [['test@capahq.org'], ['admin@handwheel.com'], ['manuelmedina@aol.com']]"
   ]
  },
  {
   "cell_type": "code",
   "execution_count": 81,
   "metadata": {},
   "outputs": [
    {
     "data": {
      "text/plain": [
       "[['annebannon72@gmail.com'],\n",
       " ['conordarcy@icloud.com'],\n",
       " ['eamonnfriel88@eircom.net'],\n",
       " ['grainnehealy@gmail.com']]"
      ]
     },
     "execution_count": 81,
     "metadata": {},
     "output_type": "execute_result"
    }
   ],
   "source": [
    "contacts = ['Anne Bannon, email: annebannon72@gmail.com','Conor Darcy, phone: (01) 12 05 25, email: conordarcy@icloud.com','Eamonn Friel, phone: (01) 12 05 25, email: eamonnfriel88@eircom.net','Grainne Healy, email: grainnehealy@gmail.com']\n",
    "exercise4(contacts)\n",
    "\n",
    "# Should return [['annebannon72@gmail.com'], ['conordarcy@icloud.com'], ['eamonnfriel88@eircom.net'], ['grainnehealy@gmail.com']]"
   ]
  }
 ],
 "metadata": {
  "kernelspec": {
   "display_name": "Python 3",
   "language": "python",
   "name": "python3"
  },
  "language_info": {
   "codemirror_mode": {
    "name": "ipython",
    "version": 3
   },
   "file_extension": ".py",
   "mimetype": "text/x-python",
   "name": "python",
   "nbconvert_exporter": "python",
   "pygments_lexer": "ipython3",
   "version": "3.7.4"
  }
 },
 "nbformat": 4,
 "nbformat_minor": 2
}
