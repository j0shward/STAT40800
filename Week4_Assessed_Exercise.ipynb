{
 "cells": [
  {
   "cell_type": "code",
   "execution_count": 142,
   "metadata": {},
   "outputs": [],
   "source": [
    "import numpy as np\n",
    "import pandas as pd\n",
    "import numpy.random as npr\n",
    "import numpy.linalg as npl\n",
    "import random\n",
    "import scipy.sparse.linalg as ssl"
   ]
  },
  {
   "cell_type": "markdown",
   "metadata": {},
   "source": [
    "### Q1 Write a function that takes n, a1, a2 and s as inputs, and returns a sample  of length n, drawn from a uniform distribution U(a1,a2). The seed should be set to s."
   ]
  },
  {
   "cell_type": "code",
   "execution_count": 174,
   "metadata": {
    "collapsed": true
   },
   "outputs": [],
   "source": [
    "def exercise1(n,a1,a2,s):\n",
    "    np.random.seed(s)\n",
    "    x = np.random.uniform(a1,a2,n)\n",
    "    return x"
   ]
  },
  {
   "cell_type": "code",
   "execution_count": 175,
   "metadata": {
    "scrolled": true
   },
   "outputs": [
    {
     "data": {
      "text/plain": [
       "array([  4.17022005e+00,   7.20324493e+00,   1.14374817e-03,\n",
       "         3.02332573e+00,   1.46755891e+00,   9.23385948e-01,\n",
       "         1.86260211e+00,   3.45560727e+00,   3.96767474e+00,\n",
       "         5.38816734e+00])"
      ]
     },
     "execution_count": 175,
     "metadata": {},
     "output_type": "execute_result"
    }
   ],
   "source": [
    "exercise1(10,0,10,1)"
   ]
  },
  {
   "cell_type": "markdown",
   "metadata": {},
   "source": [
    "# A multiple linear regression model is defined as\n",
    "#### y =  b0 + b1*x1 + b2*x2 + b3*x3 + b4*x4 + ... + bpxp + epsilon\n",
    "#### where p is the dimension and {x1,x2,...,xp} are the variables\n",
    "\n",
    "#### To fit a linear regression model to a dataset we use the standard equation\n",
    "#### b = (X^T X)^{-1} X^T y, to estimate the coefficients b = [b0, b1, ... , bp]. \n",
    "#### Here, y is the dataset (1D array) and X is a matrix where the first column is \n",
    "#### filled entirely with 1s and the subsequent columns are x1, x2, etc. \n",
    "\n",
    "### Q2 Write a function that takes p and a list S as inputs, and returns the matrix X. Use your function from exercise one to create the x1, x2, ... , xp variables, with n = 1000, a1 = 0 and a2 =10. The input S = (s0, s1, ... , sp),   where si corresponds to the seed that should be used to create the variable xi. Hint: Python treats all 1D arrays as row vectors. Instead Create the transpose of X and return its tranpose ((X^T)^T=X). Also, the function vstack will come in useful here. "
   ]
  },
  {
   "cell_type": "code",
   "execution_count": 176,
   "metadata": {
    "collapsed": true
   },
   "outputs": [],
   "source": [
    "def exercise2(p,S):\n",
    "    n = 1000\n",
    "    a1 = 0\n",
    "    a2 = 10\n",
    "    X=np.ones((1,n))\n",
    "    for i in range(1,p+1):\n",
    "        i=exercise1(n,a1,a2,S[i-1])\n",
    "        X=np.vstack((X,i))\n",
    "    return X.transpose()"
   ]
  },
  {
   "cell_type": "code",
   "execution_count": 177,
   "metadata": {},
   "outputs": [
    {
     "data": {
      "text/plain": [
       "array([[  1.00000000e+00,   4.17022005e+00,   4.35994902e+00,\n",
       "          5.50797903e+00,   9.67029839e+00],\n",
       "       [  1.00000000e+00,   7.20324493e+00,   2.59262318e-01,\n",
       "          7.08147823e+00,   5.47232249e+00],\n",
       "       [  1.00000000e+00,   1.14374817e-03,   5.49662478e+00,\n",
       "          2.90904739e+00,   9.72684360e+00],\n",
       "       ..., \n",
       "       [  1.00000000e+00,   6.68796606e+00,   6.80391484e+00,\n",
       "          3.70698169e+00,   8.69198354e+00],\n",
       "       [  1.00000000e+00,   3.25967207e+00,   8.53199812e+00,\n",
       "          3.51653907e-01,   2.15144547e+00],\n",
       "       [  1.00000000e+00,   7.74477266e+00,   7.92842528e+00,\n",
       "          1.24693760e+00,   4.19331747e+00]])"
      ]
     },
     "execution_count": 177,
     "metadata": {},
     "output_type": "execute_result"
    }
   ],
   "source": [
    "p = 4\n",
    "S = [1,2,3,4]\n",
    "\n",
    "exercise2(p,S)"
   ]
  },
  {
   "cell_type": "markdown",
   "metadata": {},
   "source": [
    "### Q3 Write a function that takes the matirx X and vector y as input, and performs a multiple linear regression, using the standard equation b = (X^T X)^{-1} X^T y, by calculating the inverse of (X^T X) and multiplying the result by (X^T y). The function should return the vector b, which contains the fits for the intercept and slope parameters (b0, b1, b2, b3, b4)"
   ]
  },
  {
   "cell_type": "code",
   "execution_count": 181,
   "metadata": {},
   "outputs": [
    {
     "data": {
      "text/plain": [
       "array([[-2.50937387],\n",
       "       [-1.55489041],\n",
       "       [-1.21802835],\n",
       "       [-1.64080828],\n",
       "       [-0.70053422]])"
      ]
     },
     "execution_count": 181,
     "metadata": {},
     "output_type": "execute_result"
    }
   ],
   "source": [
    "y = npr.randn(5,1)\n",
    "X = npr.randn(5,5)\n",
    "\n",
    "def exercise3(X,y):\n",
    "    XT=X.transpose()\n",
    "    XTX=np.dot(XT,X)\n",
    "    \n",
    "    XTX_inv=npl.inv(XTX)\n",
    "    XTy=np.dot(XT,y)\n",
    "    b=np.dot(XTX_inv,XTy)\n",
    "    return b\n",
    "\n",
    "exercise3(X,y)"
   ]
  },
  {
   "cell_type": "markdown",
   "metadata": {},
   "source": [
    "### Q4 Write another function, with the same inputs and outputs, which uses the solve function rather than finding the inverse and then multiplying."
   ]
  },
  {
   "cell_type": "code",
   "execution_count": 179,
   "metadata": {},
   "outputs": [
    {
     "name": "stdout",
     "output_type": "stream",
     "text": [
      "[[-2.50937387]\n",
      " [-1.55489041]\n",
      " [-1.21802835]\n",
      " [-1.64080828]\n",
      " [-0.70053422]]\n"
     ]
    }
   ],
   "source": [
    "def exercise4(X,y):\n",
    "    XT=X.transpose()\n",
    "    XTX=np.dot(XT,X)\n",
    "    XTy=np.dot(XT,y)\n",
    "    \n",
    "    b=npl.solve(XTX,XTy)\n",
    "    return b\n",
    "    \n",
    "print(exercise4(X,y))"
   ]
  },
  {
   "cell_type": "markdown",
   "metadata": {},
   "source": [
    "#### Try testing you functions for different models, e.g. y = 3 + 2*x1 - x2 + 0.5*x3 - 0.1*x4 + npr.normal(0,1,n) where x1, x2, x3, x4 should be comupted using the function exercise1, with  different seeds s1, s2, s3, s4. These seeds should be given as a list/array  into exercise2 to create the matrix X. Running exercise3 and exercise4 should  give the same result, a vector (1D array) of length p+1, with entries roughly  equal to the coefficients defined in your multiple linear model,  e.g. [3,2,-1,0.5,-0.1] for the above example. You can use %timeit to see  whether exercise3 or exercise4 is quicker for fitting the regression model."
   ]
  },
  {
   "cell_type": "code",
   "execution_count": 180,
   "metadata": {},
   "outputs": [
    {
     "data": {
      "text/plain": [
       "array([ 2.97205547,  1.99757688, -0.98359525,  0.484859  , -0.09242946])"
      ]
     },
     "execution_count": 180,
     "metadata": {},
     "output_type": "execute_result"
    }
   ],
   "source": [
    "s1 = 1\n",
    "s2 = 2\n",
    "s3 = 3\n",
    "s4 = 4\n",
    "\n",
    "y = 3 + 2*exercise1(1000,0,10,1) - exercise1(1000,0,10,2) + 0.5*exercise1(1000,0,10,3) - 0.1*exercise1(1000,0,10,4) + npr.normal(0,1,1000)\n",
    "\n",
    "x = exercise2(p =4 , S = [1,2,3,4])\n",
    "\n",
    "exercise3(x,y)"
   ]
  },
  {
   "cell_type": "code",
   "execution_count": 168,
   "metadata": {},
   "outputs": [
    {
     "name": "stdout",
     "output_type": "stream",
     "text": [
      "31.5 µs ± 884 ns per loop (mean ± std. dev. of 7 runs, 10000 loops each)\n",
      "30.7 µs ± 614 ns per loop (mean ± std. dev. of 7 runs, 10000 loops each)\n"
     ]
    }
   ],
   "source": [
    "%timeit exercise3(x,y)\n",
    "%timeit exercise4(x,y)"
   ]
  }
 ],
 "metadata": {
  "kernelspec": {
   "display_name": "Python 3",
   "language": "python",
   "name": "python3"
  },
  "language_info": {
   "codemirror_mode": {
    "name": "ipython",
    "version": 3
   },
   "file_extension": ".py",
   "mimetype": "text/x-python",
   "name": "python",
   "nbconvert_exporter": "python",
   "pygments_lexer": "ipython3",
   "version": "3.6.3"
  }
 },
 "nbformat": 4,
 "nbformat_minor": 2
}
