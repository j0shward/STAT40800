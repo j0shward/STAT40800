{
 "cells": [
  {
   "cell_type": "markdown",
   "metadata": {},
   "source": [
    "### Import Libraries"
   ]
  },
  {
   "cell_type": "code",
   "execution_count": 52,
   "metadata": {
    "collapsed": true
   },
   "outputs": [],
   "source": [
    "import numpy as np\n",
    "import pandas as pd\n",
    "import statsmodels.formula.api as smf\n",
    "import math"
   ]
  },
  {
   "cell_type": "markdown",
   "metadata": {},
   "source": [
    "### 1. Write a for loop to compute the sum of x^2 for x from 0 to 8. What is the value of this sum?"
   ]
  },
  {
   "cell_type": "code",
   "execution_count": 22,
   "metadata": {},
   "outputs": [
    {
     "name": "stdout",
     "output_type": "stream",
     "text": [
      "Please input the number of integer sums you want to compute:9\n",
      "Here is the Sum of the squared integers: 204\n"
     ]
    }
   ],
   "source": [
    "n = int(input(\"Please input the number of integer sums you want to compute:\"))\n",
    "\n",
    "#The user should input 9 since indexing begins at 0 in python\n",
    "\n",
    "p = 0\n",
    "for i in range(0,n):\n",
    "    p = p + (i**2)\n",
    "print(\"Here is the Sum of the squared integers:\", p)"
   ]
  },
  {
   "cell_type": "markdown",
   "metadata": {},
   "source": [
    "### 2. Define a function (addition) that returns the sum of two numbers x and y. Use the function to calculate 2.09 + 8.73"
   ]
  },
  {
   "cell_type": "code",
   "execution_count": 51,
   "metadata": {},
   "outputs": [
    {
     "data": {
      "text/plain": [
       "10.82"
      ]
     },
     "execution_count": 51,
     "metadata": {},
     "output_type": "execute_result"
    }
   ],
   "source": [
    "def addition(x,y):\n",
    "    z = x + y\n",
    "    return z\n",
    "\n",
    "x = 2.09\n",
    "y = 8.73\n",
    "\n",
    "addition(x,y)"
   ]
  },
  {
   "cell_type": "markdown",
   "metadata": {},
   "source": [
    "### 3. Find the 3 errors in the code below. The function sin estimate should calculate an estimate of the sine function at the value x, with an error tolerance of tol. After finding the 3 errors and fixing the code, the variable y should equal 0.09983341666666667"
   ]
  },
  {
   "cell_type": "markdown",
   "metadata": {},
   "source": [
    "#### Error 1 = no ':' after definition of function.\n",
    "#### Error 2 = sin(x) isn't defined, since it is from the math library we must call the sine function using math.sin()\n",
    "#### Error 3 = the function doesn't currently return anything, we must alter it to return the sin_est which is its purpose by putting 'return sin_est'\n",
    "#### Error 4 = Change \"i += 3\" to \"i += 1\" in order to account for all iterations and you will achieve the answer 0.09983341666666667 instead of 0.09999999998015874"
   ]
  },
  {
   "cell_type": "code",
   "execution_count": 55,
   "metadata": {},
   "outputs": [
    {
     "data": {
      "text/plain": [
       "0.09983341666666667"
      ]
     },
     "execution_count": 55,
     "metadata": {},
     "output_type": "execute_result"
    }
   ],
   "source": [
    "def sin_estimate(x,tol=10**-10):\n",
    "    sin_est = 0\n",
    "    i = 0\n",
    "    error = abs(sin_est-math.sin(x))\n",
    "    while error>tol and i<50:\n",
    "        sin_est += ((-1)**i)*(x**(2*i+1))/math.factorial(2*i+1)\n",
    "        error = abs(sin_est-math.sin(x))\n",
    "        i += 1\n",
    "    return sin_est\n",
    "y = sin_estimate(0.1)\n",
    "y"
   ]
  },
  {
   "cell_type": "markdown",
   "metadata": {},
   "source": [
    "### 4. A bakery sells cupcakes, cookies and pastries, for e1.50, e1.00 and e0.80 respectively. However, the bakery offers discounts if you buy multiple items: \n",
    "#### • If you buy 4-8 cupcakes they cost e1.20 each, and if you buy more then 8 they are 1.00 each.\n",
    "#### • If you buy 5 or more cookies they are e0.80.\n",
    "#### • If you buy more than 3 pastries they are reduced to e0.65 each, and reduced further to 0.50 if you buy 10 or more.\n",
    "#### Create a set of nested if/elif/else statements to determine the price of each item based on the amount the customer requests and then computes the total cost of the order. Pay attention to the phrasing ”more than n”, ”n or more” one includes the value ’n’ and the other does not. \n",
    "\n",
    "### Use your code to determine the total cost of 8 cupcakes, 4 cookies and 12 pastries."
   ]
  },
  {
   "cell_type": "code",
   "execution_count": 45,
   "metadata": {},
   "outputs": [
    {
     "data": {
      "text/plain": [
       "19.6"
      ]
     },
     "execution_count": 45,
     "metadata": {},
     "output_type": "execute_result"
    }
   ],
   "source": [
    "price_cc = 0 #price of cupcake\n",
    "price_c = 0 #price of cookies\n",
    "price_p = 0 #price of pastries\n",
    "\n",
    "x = 8 #number of cupcakes\n",
    "y = 4 #number of cookies\n",
    "z = 12 #number of pastries\n",
    "\n",
    "def shoppingcost(x,y,z):\n",
    "    if x >= 4:\n",
    "        if x <= 8:\n",
    "            price_cc = 1.2\n",
    "        else:\n",
    "            price_cc = 1\n",
    "    else:\n",
    "        price_cc = 1.5\n",
    "        \n",
    "    if y >= 5:\n",
    "        price_c = 0.8\n",
    "    else:\n",
    "        price_c = 1\n",
    "        \n",
    "    if z > 3:\n",
    "        if z >= 10:\n",
    "            price_p = 0.5\n",
    "        else:\n",
    "            price_p = 0.65\n",
    "    else:\n",
    "        price_p = 0.8\n",
    "    return price_cc*x + price_c*y + price_p*z\n",
    "            \n",
    "shoppingcost(x,y,z)"
   ]
  }
 ],
 "metadata": {
  "kernelspec": {
   "display_name": "Python 3",
   "language": "python",
   "name": "python3"
  },
  "language_info": {
   "codemirror_mode": {
    "name": "ipython",
    "version": 3
   },
   "file_extension": ".py",
   "mimetype": "text/x-python",
   "name": "python",
   "nbconvert_exporter": "python",
   "pygments_lexer": "ipython3",
   "version": "3.6.3"
  }
 },
 "nbformat": 4,
 "nbformat_minor": 2
}
